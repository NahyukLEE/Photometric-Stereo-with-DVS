{
 "cells": [
  {
   "cell_type": "code",
   "execution_count": 3,
   "id": "809403e3",
   "metadata": {},
   "outputs": [],
   "source": [
    "import cv2\n",
    "import os\n",
    "import numpy as np\n",
    "from glob import glob"
   ]
  },
  {
   "cell_type": "code",
   "execution_count": 5,
   "id": "3b4ff8d0",
   "metadata": {},
   "outputs": [],
   "source": [
    "def createFolder(directory):\n",
    "    try:\n",
    "        if not os.path.exists(directory):\n",
    "            os.makedirs(directory)\n",
    "    except OSError:\n",
    "        print ('Error: Creating directory. ' +  directory)"
   ]
  },
  {
   "cell_type": "code",
   "execution_count": 6,
   "id": "3636e843",
   "metadata": {},
   "outputs": [],
   "source": [
    "def crop(img, bg, mask):\n",
    "    fg = cv2.bitwise_or(img, img, mask=mask)            \n",
    "    fg_back_inv = cv2.bitwise_or(bg, bg, mask=cv2.bitwise_not(mask))\n",
    "    return cv2.bitwise_or(fg, fg_back_inv)"
   ]
  },
  {
   "cell_type": "code",
   "execution_count": 7,
   "id": "aef0542f",
   "metadata": {},
   "outputs": [
    {
     "name": "stdout",
     "output_type": "stream",
     "text": [
      "ballPNG\n",
      "bearPNG\n",
      "buddhaPNG\n",
      "catPNG\n",
      "cowPNG\n",
      "gobletPNG\n",
      "harvestPNG\n",
      "pot1PNG\n",
      "pot2PNG\n",
      "readingPNG\n"
     ]
    }
   ],
   "source": [
    "obj = os.listdir('./pmsData')\n",
    "\n",
    "for o in obj:\n",
    "    img_path = './pmsData/'+ o + '/img'\n",
    "    imgs = glob(img_path + \"/*\")\n",
    "    \n",
    "    print(o)\n",
    "    createFolder('./pmsData/' + o + '/img_masked')\n",
    "    \n",
    "    for i in imgs:\n",
    "        path = i.encode('utf-8','backslashreplace').decode().replace(\"\\\\\",\"/\")\n",
    "        frame = cv2.imread(path)\n",
    "        #print(path)\n",
    "        h,w,_ = frame.shape\n",
    "        \n",
    "        mask = cv2.imread('./pmsData/' + o + '/mask.png')\n",
    "        mask = cv2.resize(cv2.cvtColor(mask, cv2.COLOR_BGR2GRAY), (w, h))\n",
    "        bg = np.zeros_like(frame, 'uint8')\n",
    "        \n",
    "        cv2.imwrite('./pmsData/'+o+'/img_masked/'+os.path.basename(path), crop(frame, bg, mask))\n",
    "    "
   ]
  },
  {
   "cell_type": "code",
   "execution_count": null,
   "id": "5864682c",
   "metadata": {},
   "outputs": [],
   "source": []
  }
 ],
 "metadata": {
  "kernelspec": {
   "display_name": "Python 3",
   "language": "python",
   "name": "python3"
  },
  "language_info": {
   "codemirror_mode": {
    "name": "ipython",
    "version": 3
   },
   "file_extension": ".py",
   "mimetype": "text/x-python",
   "name": "python",
   "nbconvert_exporter": "python",
   "pygments_lexer": "ipython3",
   "version": "3.8.10"
  }
 },
 "nbformat": 4,
 "nbformat_minor": 5
}
